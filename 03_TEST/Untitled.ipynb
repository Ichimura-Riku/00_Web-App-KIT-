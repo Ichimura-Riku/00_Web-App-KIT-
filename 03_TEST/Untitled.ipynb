{
 "cells": [
  {
   "cell_type": "code",
   "execution_count": 8,
   "metadata": {},
   "outputs": [
    {
     "name": "stdout",
     "output_type": "stream",
     "text": [
      "15 %1.14f*10^{%s}\n"
     ]
    },
    {
     "data": {
      "text/plain": [
       "('2.30000000000000*10^{2}', 1.00000000000000)"
      ]
     },
     "execution_count": 8,
     "metadata": {},
     "output_type": "execute_result"
    }
   ],
   "source": [
    "import math\n",
    "from sympy import *\n",
    "\n",
    "\n",
    "val = sympify(\"1.00*2.300*10^(2)\")\n",
    "\n",
    "def significant_figure(val):\n",
    "    c0 = str(val).replace(\"**\",\"^\").split(\"*\")\n",
    "    num_part=\"1\";tmp_sigdig=[]\n",
    "    for i in range(len(c0)):    \n",
    "        if isinstance(sympify(c0[i]),Float) or isinstance(sympify(c0[i]),Integer):\n",
    "            tmp_sigdig.append(len(str(c0[i]).replace(\".\",\"\")))\n",
    "            num_part += \"*\" + str(c0[i])\n",
    "\n",
    "    num_part   = sympify(num_part)\n",
    "    sim_part   = simplify(sympify(val)/sympify(num_part) )\n",
    "    sigdig     = min(tmp_sigdig)\n",
    "    index_val  = math.floor(math.log10(num_part))\n",
    "    \n",
    "    if sigdig == 1:\n",
    "        style_set  = r\"%1\" + str(sigdig-1) + \"d\"\n",
    "    else:\n",
    "        style_set  = r\"%1.\" + str(sigdig-1) + \"f\"\n",
    "    style_set += \"*10^{%s}\"  \n",
    "    print(sigdig , style_set)\n",
    "    num_part_result = style_set%(num_part*10**(-index_val),index_val)\n",
    "    sym_part_result = sympify(str(sim_part).replace(\"1.0*\",\"\"))\n",
    "    \n",
    "    return num_part_result,sym_part_result\n",
    "\n",
    "significant_figure(val)"
   ]
  },
  {
   "cell_type": "code",
   "execution_count": 9,
   "metadata": {},
   "outputs": [
    {
     "name": "stdout",
     "output_type": "stream",
     "text": [
      "<__main__.significantF object at 0x7feae170cd50> done\n"
     ]
    }
   ],
   "source": [
    "from IPython.display import Math,YouTubeVideo,clear_output,HTML,Markdown\n",
    "class significantF:\n",
    "    def __init__(self,str_num):\n",
    "        self.str_num = str_num\n",
    "        #print(\"self.str_num = \",self.str_num)\n",
    "        \n",
    "    def print_num(self):\n",
    "        self_num = \"done\"\n",
    "        return self_num\n",
    "    \n",
    "if __name__ == \"__main__\":\n",
    "    a = significantF(\"Test\")\n",
    "    print(a,a.print_num())"
   ]
  },
  {
   "cell_type": "code",
   "execution_count": 10,
   "metadata": {},
   "outputs": [
    {
     "name": "stdout",
     "output_type": "stream",
     "text": [
      "TEST\n"
     ]
    }
   ],
   "source": [
    "print(\"TEST\")"
   ]
  },
  {
   "cell_type": "code",
   "execution_count": 11,
   "metadata": {},
   "outputs": [
    {
     "ename": "NameError",
     "evalue": "name 'style_set' is not defined",
     "output_type": "error",
     "traceback": [
      "\u001b[0;31m---------------------------------------------------------------------------\u001b[0m",
      "\u001b[0;31mNameError\u001b[0m                                 Traceback (most recent call last)",
      "\u001b[0;32m<ipython-input-11-a70cc65ae77c>\u001b[0m in \u001b[0;36m<module>\u001b[0;34m\u001b[0m\n\u001b[1;32m     18\u001b[0m     \u001b[0;32mreturn\u001b[0m \u001b[0msigdig\u001b[0m\u001b[0;34m,\u001b[0m\u001b[0mindex_val\u001b[0m\u001b[0;34m\u001b[0m\u001b[0;34m\u001b[0m\u001b[0m\n\u001b[1;32m     19\u001b[0m \u001b[0;34m\u001b[0m\u001b[0m\n\u001b[0;32m---> 20\u001b[0;31m \u001b[0msignificant_figure\u001b[0m\u001b[0;34m(\u001b[0m\u001b[0mval\u001b[0m\u001b[0;34m)\u001b[0m\u001b[0;34m\u001b[0m\u001b[0;34m\u001b[0m\u001b[0m\n\u001b[0m",
      "\u001b[0;32m<ipython-input-11-a70cc65ae77c>\u001b[0m in \u001b[0;36msignificant_figure\u001b[0;34m(val)\u001b[0m\n\u001b[1;32m     15\u001b[0m     \u001b[0msigdig\u001b[0m     \u001b[0;34m=\u001b[0m \u001b[0mmin\u001b[0m\u001b[0;34m(\u001b[0m\u001b[0mtmp_sigdig\u001b[0m\u001b[0;34m)\u001b[0m\u001b[0;34m\u001b[0m\u001b[0;34m\u001b[0m\u001b[0m\n\u001b[1;32m     16\u001b[0m     \u001b[0mindex_val\u001b[0m  \u001b[0;34m=\u001b[0m \u001b[0mmath\u001b[0m\u001b[0;34m.\u001b[0m\u001b[0mfloor\u001b[0m\u001b[0;34m(\u001b[0m\u001b[0mmath\u001b[0m\u001b[0;34m.\u001b[0m\u001b[0mlog10\u001b[0m\u001b[0;34m(\u001b[0m\u001b[0msympify\u001b[0m\u001b[0;34m(\u001b[0m\u001b[0mnum_part\u001b[0m\u001b[0;34m)\u001b[0m\u001b[0;34m)\u001b[0m\u001b[0;34m)\u001b[0m\u001b[0;34m\u001b[0m\u001b[0;34m\u001b[0m\u001b[0m\n\u001b[0;32m---> 17\u001b[0;31m     \u001b[0mprint\u001b[0m\u001b[0;34m(\u001b[0m\u001b[0msigdig\u001b[0m \u001b[0;34m,\u001b[0m\u001b[0mstyle_set\u001b[0m\u001b[0;34m)\u001b[0m\u001b[0;34m\u001b[0m\u001b[0;34m\u001b[0m\u001b[0m\n\u001b[0m\u001b[1;32m     18\u001b[0m     \u001b[0;32mreturn\u001b[0m \u001b[0msigdig\u001b[0m\u001b[0;34m,\u001b[0m\u001b[0mindex_val\u001b[0m\u001b[0;34m\u001b[0m\u001b[0;34m\u001b[0m\u001b[0m\n\u001b[1;32m     19\u001b[0m \u001b[0;34m\u001b[0m\u001b[0m\n",
      "\u001b[0;31mNameError\u001b[0m: name 'style_set' is not defined"
     ]
    }
   ],
   "source": [
    "import math\n",
    "from sympy import *\n",
    "\n",
    "\n",
    "val = \"23.0*10^(2)\"\n",
    "\n",
    "def significant_figure(val):\n",
    "    c0 = str(val).replace(\"**\",\"^\").split(\"*\")\n",
    "    num_part=\"1\";tmp_sigdig=[]\n",
    "    for i in range(len(c0)):    \n",
    "        if isinstance(sympify(c0[i]),Float) or isinstance(sympify(c0[i]),Integer):\n",
    "            tmp_sigdig.append(len(str(c0[i]).replace(\".\",\"\")))\n",
    "            num_part += \"*\" + str(c0[i])\n",
    "\n",
    "    sigdig     = min(tmp_sigdig)\n",
    "    index_val  = math.floor(math.log10(sympify(num_part)))\n",
    "    print(sigdig ,style_set)\n",
    "    return sigdig,index_val\n",
    "\n",
    "significant_figure(val)"
   ]
  },
  {
   "cell_type": "code",
   "execution_count": 12,
   "metadata": {},
   "outputs": [
    {
     "name": "stdout",
     "output_type": "stream",
     "text": [
      "(3, 3)\n",
      "2.30*10^{3}\n"
     ]
    }
   ],
   "source": [
    "import math\n",
    "from sympy import *\n",
    "\n",
    "val = \"23.0*10^(2)*cos(x)\"\n",
    "\n",
    "class SigF:\n",
    "    def __init__(self,val):\n",
    "        self.val = val\n",
    "        self.c0 = str(val).replace(\"**\",\"^\").split(\"*\")\n",
    "        self.num_part=\"1\";self.tmp_sigdig=[]\n",
    "        for i in range(len(self.c0)):    \n",
    "            if isinstance(sympify(self.c0[i]),Float) or isinstance(sympify(self.c0[i]),Integer):\n",
    "                self.tmp_sigdig.append(len(str(self.c0[i]).replace(\".\",\"\")))\n",
    "                self.num_part += \"*\" + str(self.c0[i])\n",
    "        self.sigdig     = min(self.tmp_sigdig)\n",
    "        self.index_val  = math.floor(math.log10(sympify(self.num_part)))\n",
    "        if self.sigdig == 1:\n",
    "            self.style_set  = r\"%1\" + str(self.sigdig-1) + \"d\"\n",
    "        else:\n",
    "            self.style_set  = r\"%1.\" + str(self.sigdig-1) + \"f\"\n",
    "        self.style_set += \"*10^{%s}\"  \n",
    "        self.num_part   = sympify(self.num_part)\n",
    "        self.sim_part   = simplify(sympify(self.val)/sympify(self.num_part) )\n",
    "\n",
    "    def num(self):\n",
    "        a = (self.sigdig,self.index_val)            \n",
    "        return a\n",
    "    \n",
    "    def cov_tex(self,tex_return=True):\n",
    "        self.num_part_result = self.style_set%(self.num_part*10**(-self.index_val),self.index_val)\n",
    "        self.sym_part_result = sympify(str(self.sim_part).replace(\"1.0*\",\"\"))\n",
    "        if tex_return :\n",
    "            self.sym_part_result = sympify(str(self.sym_part_result).replace(\"*\",\"\"))\n",
    "        else:\n",
    "            self.num_part_result = self.num_part_result.replace(\"^\",\"**\")\n",
    "            self.num_part_result = self.num_part_result.replace(\"{\",\"(\")\n",
    "            self.num_part_result = self.num_part_result.replace(\"}\",\")\")\n",
    "            self.num_part_result = sympify(self.num_part_result)\n",
    "        return self.num_part_result,self.sym_part_result\n",
    "\n",
    "print( SigF(val).num() )\n",
    "print( SigF(val).cov_tex(tex_return=True)[0] )"
   ]
  },
  {
   "cell_type": "code",
   "execution_count": 36,
   "metadata": {},
   "outputs": [
    {
     "name": "stdout",
     "output_type": "stream",
     "text": [
      "(e**x + (x - 2)**2 + sin(e**x + (x - 2)**2 + 1/x) + 1/x, 0)\n",
      "{sin(e**x + (x - 2)**2 + 1/x)}\n"
     ]
    },
    {
     "ename": "AttributeError",
     "evalue": "'Add' object has no attribute 'Add'",
     "output_type": "error",
     "traceback": [
      "\u001b[0;31m---------------------------------------------------------------------------\u001b[0m",
      "\u001b[0;31mAttributeError\u001b[0m                            Traceback (most recent call last)",
      "\u001b[0;32m<ipython-input-36-9725345cc32b>\u001b[0m in \u001b[0;36m<module>\u001b[0;34m\u001b[0m\n\u001b[1;32m      4\u001b[0m \u001b[0mprint\u001b[0m\u001b[0;34m(\u001b[0m\u001b[0mform\u001b[0m\u001b[0;34m.\u001b[0m\u001b[0mas_independent\u001b[0m\u001b[0;34m(\u001b[0m\u001b[0;34m)\u001b[0m\u001b[0;34m)\u001b[0m\u001b[0;34m\u001b[0m\u001b[0;34m\u001b[0m\u001b[0m\n\u001b[1;32m      5\u001b[0m \u001b[0mprint\u001b[0m\u001b[0;34m(\u001b[0m\u001b[0mform\u001b[0m\u001b[0;34m.\u001b[0m\u001b[0matoms\u001b[0m\u001b[0;34m(\u001b[0m\u001b[0mFunction\u001b[0m\u001b[0;34m)\u001b[0m\u001b[0;34m)\u001b[0m\u001b[0;34m\u001b[0m\u001b[0;34m\u001b[0m\u001b[0m\n\u001b[0;32m----> 6\u001b[0;31m \u001b[0mprint\u001b[0m\u001b[0;34m(\u001b[0m\u001b[0mform\u001b[0m\u001b[0;34m.\u001b[0m\u001b[0mAdd\u001b[0m\u001b[0;34m(\u001b[0m\u001b[0;34m)\u001b[0m\u001b[0;34m)\u001b[0m\u001b[0;34m\u001b[0m\u001b[0;34m\u001b[0m\u001b[0m\n\u001b[0m",
      "\u001b[0;31mAttributeError\u001b[0m: 'Add' object has no attribute 'Add'"
     ]
    }
   ],
   "source": [
    "form = \"1/x+e^x+(x-2)^2 + sin( 1/x+e^x+(x-2)^2 )\"\n",
    "form = sympify(form)\n",
    "\n",
    "print(form.as_independent())\n",
    "print(form.atoms(Function))\n",
    "print(form.Add())"
   ]
  },
  {
   "cell_type": "code",
   "execution_count": null,
   "metadata": {},
   "outputs": [],
   "source": []
  }
 ],
 "metadata": {
  "kernelspec": {
   "display_name": "Python 3",
   "language": "python",
   "name": "python3"
  },
  "language_info": {
   "codemirror_mode": {
    "name": "ipython",
    "version": 3
   },
   "file_extension": ".py",
   "mimetype": "text/x-python",
   "name": "python",
   "nbconvert_exporter": "python",
   "pygments_lexer": "ipython3",
   "version": "3.7.4"
  }
 },
 "nbformat": 4,
 "nbformat_minor": 2
}
