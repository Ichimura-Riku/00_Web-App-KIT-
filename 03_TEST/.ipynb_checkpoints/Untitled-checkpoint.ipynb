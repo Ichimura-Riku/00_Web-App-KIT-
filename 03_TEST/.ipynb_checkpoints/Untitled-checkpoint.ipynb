{
 "cells": [
  {
   "cell_type": "code",
   "execution_count": null,
   "metadata": {},
   "outputs": [],
   "source": [
    "import re as Re\n",
    "import math\n",
    "from sympy import *\n",
    "\n",
    "val= '3*1.0*1.600*10^(-8)*xy*h'\n",
    "c0 = a.split(\"*\")\n",
    "\n",
    "num_part=a\n",
    "val_part=[]\n",
    "tmp_sigdig=[]\n",
    "for i in range(len(c0)):    \n",
    "    if isinstance(sympify(c0[i]),Symbol):\n",
    "        num_part = num_part.replace(c0[i],\"1\")\n",
    "        val_part.append(c0[i])\n",
    "        \n",
    "    if isinstance(sympify(c0[i]),Float):\n",
    "        print(c0[i])\n",
    "        tmp_sigdig.append(len(str(c0[i]).replace(\".\",\"\")))\n",
    "\n",
    "sigdig=min(tmp_sigdig)\n",
    "\n",
    "index_val = math.floor(math.log10(sympify(num_part)))\n",
    "\n",
    "val_sym =\"1\"\n",
    "for i in range(len(val_part)):\n",
    "    val_sym += \"*\" + str(val_part[i])\n",
    "\n",
    "style = \"r\\\" %.\" + str(sigdig) + \"d\\\"\"\n",
    "print(style)\n"
   ]
  },
  {
   "cell_type": "code",
   "execution_count": null,
   "metadata": {},
   "outputs": [],
   "source": [
    "print(style%sympify(num_part)*10**(-index_val),r\"10^{%s}\"%index_val,sympify(val_sym))"
   ]
  },
  {
   "cell_type": "code",
   "execution_count": 4,
   "metadata": {},
   "outputs": [
    {
     "data": {
      "text/plain": [
       "'done'"
      ]
     },
     "execution_count": 4,
     "metadata": {},
     "output_type": "execute_result"
    }
   ],
   "source": [
    "class significantF:\n",
    "    def __init__(self,str_num):\n",
    "        self.str_num = str_num\n",
    "        print(\"self.str_num = \",self_num)\n",
    "    def print_num(self):\n",
    "        self_num = \"done\"\n",
    "        return self_num\n",
    "\n",
    "significantF(\"test\").print_num()"
   ]
  },
  {
   "cell_type": "code",
   "execution_count": null,
   "metadata": {},
   "outputs": [],
   "source": []
  }
 ],
 "metadata": {
  "kernelspec": {
   "display_name": "Python 3",
   "language": "python",
   "name": "python3"
  },
  "language_info": {
   "codemirror_mode": {
    "name": "ipython",
    "version": 3
   },
   "file_extension": ".py",
   "mimetype": "text/x-python",
   "name": "python",
   "nbconvert_exporter": "python",
   "pygments_lexer": "ipython3",
   "version": "3.7.4"
  }
 },
 "nbformat": 4,
 "nbformat_minor": 2
}
