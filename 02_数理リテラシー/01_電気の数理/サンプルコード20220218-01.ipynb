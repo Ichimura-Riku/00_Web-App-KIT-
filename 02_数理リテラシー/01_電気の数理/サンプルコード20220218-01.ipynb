{
 "cells": [
  {
   "cell_type": "code",
   "execution_count": 9,
   "metadata": {},
   "outputs": [],
   "source": [
    "from sympy import *\n",
    "import streamlit as st"
   ]
  },
  {
   "cell_type": "code",
   "execution_count": 10,
   "metadata": {},
   "outputs": [
    {
     "name": "stderr",
     "output_type": "stream",
     "text": [
      "2022-02-18 15:47:24.401 \n",
      "  \u001b[33m\u001b[1mWarning:\u001b[0m to view this Streamlit app on a browser, run it with the following\n",
      "  command:\n",
      "\n",
      "    streamlit run /Users/s-wat/opt/anaconda3/lib/python3.7/site-packages/ipykernel_launcher.py [ARGUMENTS]\n"
     ]
    },
    {
     "data": {
      "text/plain": [
       "DeltaGenerator(_root_container=0, _provided_cursor=None, _parent=None, _block_type=None, _form_data=None)"
      ]
     },
     "execution_count": 10,
     "metadata": {},
     "output_type": "execute_result"
    }
   ],
   "source": [
    "text01 =r\"\\\n",
    "単位体積（$1\\ \\rm m^3$）あたりに約 **XXX** の自由電子が存在する金属でできた導線がある．この導線に\\\n",
    " **XXX** の電流が流れるとき，自由電子の平均速度の大きさ$\\overline{v}\\ \\rm [m/s]$を求めなさい．\\\n",
    " ただし，導線の断面積は **XXX** であり，自由電子の平均速度は断面に対して垂直であるものとする．また自由電子の電荷は\\\n",
    " 電気素量 $ e = 1.6 \\times 10^{-10} \\ \\rm C $ を用いる．\\\n",
    "\"\n",
    "\n",
    "(text01)"
   ]
  },
  {
   "cell_type": "code",
   "execution_count": null,
   "metadata": {},
   "outputs": [],
   "source": []
  }
 ],
 "metadata": {
  "kernelspec": {
   "display_name": "Python 3",
   "language": "python",
   "name": "python3"
  },
  "language_info": {
   "codemirror_mode": {
    "name": "ipython",
    "version": 3
   },
   "file_extension": ".py",
   "mimetype": "text/x-python",
   "name": "python",
   "nbconvert_exporter": "python",
   "pygments_lexer": "ipython3",
   "version": "3.7.4"
  }
 },
 "nbformat": 4,
 "nbformat_minor": 2
}
