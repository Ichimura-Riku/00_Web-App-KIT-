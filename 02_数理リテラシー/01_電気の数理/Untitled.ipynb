{
 "cells": [
  {
   "cell_type": "code",
   "execution_count": 69,
   "metadata": {},
   "outputs": [
    {
     "data": {
      "text/plain": [
       "'$1.60 \\\\times 10^{-8}$'"
      ]
     },
     "execution_count": 69,
     "metadata": {},
     "output_type": "execute_result"
    }
   ],
   "source": [
    "import re \n",
    "import math\n",
    "from sympy import *\n",
    "\n",
    "a  = \"1.60*10^(-8)\"\n",
    "a0 = a.split('*')[0]\n",
    "b  = len(a.split('*')[0].replace(\".\",\"\"))\n",
    "a = sympify(a)\n",
    "index_val = math.floor(math.log10(a)) \n",
    "\n",
    "latex(r\"$%s \\times 10^{%s}$\"%(a0,index_val) )"
   ]
  },
  {
   "cell_type": "code",
   "execution_count": null,
   "metadata": {},
   "outputs": [],
   "source": [
    "import re \n",
    "import math\n",
    "from sympy import *\n",
    "\n",
    "a  = \"1.60*10^(-8)XY\"\n",
    "a0 = a.split('*')[0]\n",
    "b  = len(a.split('*')[0].replace(\".\",\"\"))\n",
    "a = sympify(a)\n",
    "index_val = math.floor(math.log10(a)) \n",
    "\n",
    "latex(r\"$%s \\times 10^{%s}$\"%(a0,index_val) )"
   ]
  }
 ],
 "metadata": {
  "kernelspec": {
   "display_name": "Python 3",
   "language": "python",
   "name": "python3"
  },
  "language_info": {
   "codemirror_mode": {
    "name": "ipython",
    "version": 3
   },
   "file_extension": ".py",
   "mimetype": "text/x-python",
   "name": "python",
   "nbconvert_exporter": "python",
   "pygments_lexer": "ipython3",
   "version": "3.7.4"
  }
 },
 "nbformat": 4,
 "nbformat_minor": 2
}
